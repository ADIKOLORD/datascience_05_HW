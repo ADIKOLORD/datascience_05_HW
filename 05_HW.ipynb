{
 "cells": [
  {
   "cell_type": "markdown",
   "metadata": {},
   "source": [
    "## 1. Написать цикл для вывода списка чисел от 100 до 50 включительно."
   ]
  },
  {
   "cell_type": "code",
   "execution_count": 1,
   "metadata": {},
   "outputs": [
    {
     "name": "stdout",
     "output_type": "stream",
     "text": [
      "[100, 99, 98, 97, 96, 95, 94, 93, 92, 91, 90, 89, 88, 87, 86, 85, 84, 83, 82, 81, 80, 79, 78, 77, 76, 75, 74, 73, 72, 71, 70, 69, 68, 67, 66, 65, 64, 63, 62, 61, 60, 59, 58, 57, 56, 55, 54, 53, 52, 51, 50]\n"
     ]
    }
   ],
   "source": [
    "print([i for i in range(100, 49, -1)])"
   ]
  },
  {
   "cell_type": "markdown",
   "metadata": {},
   "source": [
    "## 2. На вход принимается целое положительное число n. Нарисовать рисунок по образцу с указанным количеством строк n.\n",
    "\n",
    "\n",
    "n = 5\n",
    "```\n",
    "* \n",
    "* * \n",
    "* * * \n",
    "* * * * \n",
    "* * * * *\n",
    "```"
   ]
  },
  {
   "cell_type": "code",
   "execution_count": 3,
   "metadata": {},
   "outputs": [
    {
     "name": "stdout",
     "output_type": "stream",
     "text": [
      "5\n",
      "* \n",
      "* * \n",
      "* * * \n",
      "* * * * \n",
      "* * * * * \n"
     ]
    }
   ],
   "source": [
    "for i in range(1, int(input()) + 1):\n",
    "    print('* ' * i)"
   ]
  },
  {
   "cell_type": "markdown",
   "metadata": {},
   "source": [
    "## 3. Что делает нижеуказанный код? Перепишите её с использованием цикла `for`"
   ]
  },
  {
   "cell_type": "code",
   "execution_count": 6,
   "metadata": {},
   "outputs": [
    {
     "name": "stdout",
     "output_type": "stream",
     "text": [
      "162\n"
     ]
    }
   ],
   "source": [
    "# n = 10\n",
    "# s = 1\n",
    "# while n > 0:\n",
    "#     if n % 3 == 0:\n",
    "#         s *= n\n",
    "    \n",
    "#     n -= 1\n",
    "\n",
    "# print(s) # => 162\n",
    "\n",
    "s = 1\n",
    "for i in range(10, 0, -1):\n",
    "    if i % 3 == 0:\n",
    "        s *= i\n",
    "print(s) "
   ]
  },
  {
   "cell_type": "markdown",
   "metadata": {},
   "source": [
    "## 4. Посчитать сумму числового ряда от 0 до 14 включительно.\n",
    "Например, 0+1+2+3+…+14"
   ]
  },
  {
   "cell_type": "code",
   "execution_count": 7,
   "metadata": {},
   "outputs": [
    {
     "name": "stdout",
     "output_type": "stream",
     "text": [
      "105\n"
     ]
    }
   ],
   "source": [
    "list_sum = [i for i in range(15)]\n",
    "print(sum(list_sum))"
   ]
  },
  {
   "cell_type": "markdown",
   "metadata": {},
   "source": [
    "## 5. Посчитать сумму `четных чисел` числового ряда от 0 до 14 включительно.\n",
    "Например, 2+4+…+14"
   ]
  },
  {
   "cell_type": "code",
   "execution_count": 8,
   "metadata": {},
   "outputs": [
    {
     "name": "stdout",
     "output_type": "stream",
     "text": [
      "56\n"
     ]
    }
   ],
   "source": [
    "lChetSum = [i for i in range(15) if i % 2 == 0]\n",
    "print(sum(lChetSum))"
   ]
  },
  {
   "cell_type": "markdown",
   "metadata": {},
   "source": [
    "## 6. Факториал числа.\n",
    "\n",
    "\n",
    "По данному целому неотрицательному n вычислите значение n!.\n",
    "\n",
    "`Примеры`\n",
    "\n",
    "`входные данные`\n",
    "\n",
    "`3`\n",
    "\n",
    "`выходные данные`\n",
    "\n",
    "`6`\n",
    "\n",
    "Факториал числа 3: `1 * 2 * 3 = 6`"
   ]
  },
  {
   "cell_type": "code",
   "execution_count": 9,
   "metadata": {},
   "outputs": [
    {
     "name": "stdout",
     "output_type": "stream",
     "text": [
      "5\n",
      "120\n"
     ]
    }
   ],
   "source": [
    "n = int(input()) + 1\n",
    "fa = 1\n",
    "for i in range(1, n):\n",
    "    fa *= i\n",
    "print(fa)"
   ]
  },
  {
   "cell_type": "markdown",
   "metadata": {},
   "source": [
    "## 7. Четные числа.\n",
    "\n",
    "\n",
    "По данным двум натуральным числам A и B (A≤B) выведите все чётные числа на отрезке от A до B. В этой задаче нельзя использовать инструкцию if.\n",
    "\n",
    "`Примеры`\n",
    "\n",
    "`входные данные`\n",
    "\n",
    "`1`\n",
    "\n",
    "`10`\n",
    "\n",
    "`выходные данные`\n",
    "\n",
    "`2 4 6 8 10`"
   ]
  },
  {
   "cell_type": "code",
   "execution_count": 13,
   "metadata": {},
   "outputs": [
    {
     "name": "stdout",
     "output_type": "stream",
     "text": [
      "2\n",
      "10\n",
      "3 5 7 9 "
     ]
    }
   ],
   "source": [
    "a = int(input()) + 1\n",
    "b = int(input()) + 1\n",
    "for i in range(a, b, 2):\n",
    "    print(i, end=' ')"
   ]
  },
  {
   "cell_type": "markdown",
   "metadata": {},
   "source": [
    "## 8. Сумма цифр числа\n",
    "\n",
    "\n",
    "Прочитайте строку состоящую из цифр (как строку, а не число). Посчитайте сумму всех чисел в списке.\n",
    "\n",
    "`Примеры`\n",
    "\n",
    "`входные данные`\n",
    "\n",
    "`1234`\n",
    "\n",
    "`выходные данные`\n",
    "\n",
    "`10`\n",
    "\n",
    "(1 + 2 + 3 + 4 = 10)\n",
    "\n",
    "Подсказка: Пробежитесь по **строке** в цикле for и суммируйте.\n",
    "\n",
    "```\n",
    "for i in \"1234\":\n",
    "    print(i)\n",
    "```\n",
    "\n",
    "этот код распечатает:\n",
    "\n",
    "1\n",
    "\n",
    "2\n",
    "\n",
    "3\n",
    "\n",
    "4"
   ]
  },
  {
   "cell_type": "code",
   "execution_count": 14,
   "metadata": {},
   "outputs": [
    {
     "name": "stdout",
     "output_type": "stream",
     "text": [
      "1234\n",
      "10\n"
     ]
    }
   ],
   "source": [
    "n = input()\n",
    "mysum = 0\n",
    "for i in n:\n",
    "    mysum += int(i)\n",
    "print(mysum)"
   ]
  },
  {
   "cell_type": "markdown",
   "metadata": {},
   "source": [
    "## Задача для интереса. Флаги.\n",
    "\n",
    "\n",
    "Напишите программу, которая по данному числу n от 1 до 9 выводит на экран n флагов. Изображение одного флага имеет размер 4×4 символов, между двумя соседними флагами также имеется пустой (из пробелов) столбец. Разрешается вывести пустой столбец после последнего флага. Внутри каждого флага должен быть записан его номер — число от 1 до n.\n",
    "\n",
    "`Примеры`\n",
    "\n",
    "`входные данные`\n",
    "\n",
    "`3`\n",
    "\n",
    "`выходные данные`\n",
    "\n",
    "`+___ +___ +___ \n",
    "|1 / |2 / |3 / \n",
    "|__\\ |__\\ |__\\ \n",
    "|    |    |    `\n",
    "\n",
    "\n",
    "`входные данные`\n",
    "\n",
    "`3`\n",
    "\n",
    "`выходные данные`\n",
    "\n",
    "`+___ \n",
    "|1 / \n",
    "|__\\ \n",
    "| `"
   ]
  },
  {
   "cell_type": "code",
   "execution_count": 23,
   "metadata": {},
   "outputs": [
    {
     "name": "stdout",
     "output_type": "stream",
     "text": [
      "3\n",
      "+___ +___ +___ \n",
      "|1 / |2 / |3 / \n",
      "|__\\ |__\\ |__\\ \n",
      "|    |    |    \n"
     ]
    }
   ],
   "source": [
    "n = int(input())\n",
    "a = '+___ '\n",
    "b = ''\n",
    "c = '|__\\ '\n",
    "d = '|    '\n",
    "for i in range(1, n + 1):\n",
    "    b += f'|{i} / '\n",
    "print(a*n, b, c*n, d*n, sep='\\n')\n",
    "    "
   ]
  },
  {
   "cell_type": "code",
   "execution_count": null,
   "metadata": {},
   "outputs": [],
   "source": []
  }
 ],
 "metadata": {
  "kernelspec": {
   "display_name": "Python 3",
   "language": "python",
   "name": "python3"
  },
  "language_info": {
   "codemirror_mode": {
    "name": "ipython",
    "version": 3
   },
   "file_extension": ".py",
   "mimetype": "text/x-python",
   "name": "python",
   "nbconvert_exporter": "python",
   "pygments_lexer": "ipython3",
   "version": "3.7.3"
  }
 },
 "nbformat": 4,
 "nbformat_minor": 2
}
